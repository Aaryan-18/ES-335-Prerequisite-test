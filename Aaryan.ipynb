{
  "cells": [
    {
      "cell_type": "markdown",
      "metadata": {},
      "source": [
        "# ES 335 Prerequisite Test"
      ]
    },
    {
      "cell_type": "markdown",
      "metadata": {},
      "source": [
        "### Aaryan Chodenkar 22570001"
      ]
    },
    {
      "cell_type": "markdown",
      "metadata": {},
      "source": [
        "Question 1"
      ]
    },
    {
      "cell_type": "markdown",
      "metadata": {},
      "source": [
        "Let A be a (n,k) matrix and B be a (k,m) matrix.\n",
        "Then C = AB is a (n,m) matrix and hence, C has n*m elements.\n",
        "Each element requires k additions and k multiplications.\n",
        "\n",
        "So, matrix multipliaction requires nmk additions and nmk multiplications."
      ]
    },
    {
      "cell_type": "markdown",
      "metadata": {},
      "source": [
        "Question 2"
      ]
    },
    {
      "cell_type": "code",
      "execution_count": 231,
      "metadata": {
        "trusted": true
      },
      "outputs": [
        {
          "name": "stdout",
          "output_type": "stream",
          "text": [
            "[[840, 784, 728, 672, 616, 560, 504, 448, 392, 336], [1092, 1012, 932, 852, 772, 692, 612, 532, 452, 372], [1344, 1240, 1136, 1032, 928, 824, 720, 616, 512, 408], [1596, 1468, 1340, 1212, 1084, 956, 828, 700, 572, 444], [1848, 1696, 1544, 1392, 1240, 1088, 936, 784, 632, 480], [2100, 1924, 1748, 1572, 1396, 1220, 1044, 868, 692, 516]]\n",
            "List of lists exection time:  7.9948902130 ms\n",
            "[[ 840  784  728  672  616  560  504  448  392  336]\n",
            " [1092 1012  932  852  772  692  612  532  452  372]\n",
            " [1344 1240 1136 1032  928  824  720  616  512  408]\n",
            " [1596 1468 1340 1212 1084  956  828  700  572  444]\n",
            " [1848 1696 1544 1392 1240 1088  936  784  632  480]\n",
            " [2100 1924 1748 1572 1396 1220 1044  868  692  516]]\n",
            "Numpy execution time:  7.9948902130 ms\n"
          ]
        }
      ],
      "source": [
        "import time\n",
        "import numpy as np\n",
        "\n",
        "t1 = time.time()\n",
        "A,B,C = [],[],[]\n",
        "\n",
        "for i in range(6):\n",
        "    A.append([3*i+j*2 for j in range(8)])\n",
        "    C.append([0 for _ in range(10)])\n",
        "for i in range(8):\n",
        "    B.append([i*3-j for j in range(10)])\n",
        "    \n",
        "for i in range(len(A)):\n",
        "    for j in range(len(B[0])):\n",
        "        for k in range(len(B)):\n",
        "            C[i][j] += A[i][k]* B[k][j]\n",
        "print(C)\n",
        "t2 = time.time()\n",
        "print(\"List of lists exection time: \",\"%.10f\" %((t2-t1)*1000), \"ms\" ) \n",
        "\n",
        "D = np.matmul(A,B)\n",
        "print(D)\n",
        "t3 = time.time()\n",
        "\n",
        "print(\"Numpy execution time: \",\"%.10f\" %((t3-t2)*1000), \"ms\" ) \n",
        "\n",
        "\n"
      ]
    },
    {
      "cell_type": "markdown",
      "metadata": {},
      "source": [
        "We observe that the numpy execution time is better. This is because numpy uses an optimised method."
      ]
    },
    {
      "cell_type": "markdown",
      "metadata": {},
      "source": [
        "Question 4\n",
        "\n",
        "Let f(x,y) = x^2 y + y^3 sin(x).\n",
        "then grad(f)(x,y) = ((2xy+ y^3 cos(x), x^2 + 3y^2 sin(x))."
      ]
    },
    {
      "cell_type": "markdown",
      "metadata": {},
      "source": [
        "Question 5"
      ]
    },
    {
      "cell_type": "code",
      "execution_count": 232,
      "metadata": {
        "trusted": true
      },
      "outputs": [
        {
          "name": "stdout",
          "output_type": "stream",
          "text": [
            "JAX gradient:  [0.   0.04]\n",
            "Directly evaluated gradient:  (Array(0., dtype=float32), Array([0.04, 0.  ], dtype=float32))\n",
            " \n",
            "JAX gradient:  [-17.123838  32.022003]\n",
            "Directly evaluated gradient:  (Array(-17.123838, dtype=float32), Array([32.022003, 39.222004], dtype=float32))\n",
            " \n",
            "JAX gradient:  [15.633791   6.7703066]\n",
            "Directly evaluated gradient:  (Array(15.633791, dtype=float32), Array([ 6.7703066, -8.179695 ], dtype=float32))\n",
            " \n",
            "JAX gradient:  [5.2831855 9.869605 ]\n",
            "Directly evaluated gradient:  (Array(5.2831855, dtype=float32), Array([9.869605  , 0.99999976], dtype=float32))\n",
            " \n"
          ]
        }
      ],
      "source": [
        "import jax\n",
        "import jax.numpy as jnp\n",
        "import math\n",
        "# from jax.test_util import check_grads\n",
        "\n",
        "def f(x):\n",
        "    return (x[0]**2)*x[1] + (x[1]**3)* jnp.sin(x[0])\n",
        "\n",
        "def dirgrad_f(x):\n",
        "    return (2*x[0]*x[1]+(x[1]**3)* math.cos(x[0]), (x**2)+3*(x[1]**2)*math.sin(x[0]))\n",
        "\n",
        "# JAX's grad operator\n",
        "grad_f = jax.grad(f)\n",
        "\n",
        "# three different input\n",
        "input = jnp.array([[0.2, 0.0], [2.4, 3.6], [4.4, 2.1],[math.pi,1]])\n",
        "\n",
        "for x in input:\n",
        "    print(\"JAX gradient: \", grad_f(x))\n",
        "    print(\"Directly evaluated gradient: \", dirgrad_f(x))\n",
        "    print(\" \")"
      ]
    },
    {
      "cell_type": "markdown",
      "metadata": {},
      "source": [
        "Question 6"
      ]
    },
    {
      "cell_type": "code",
      "execution_count": 233,
      "metadata": {},
      "outputs": [
        {
          "name": "stdout",
          "output_type": "stream",
          "text": [
            "Gradient obtained: ( 2*x*y + y**3*cos(x) , x**2 + 3*y**2*sin(x) )\n"
          ]
        }
      ],
      "source": [
        "import sympy\n",
        "import sympy.vector as sy\n",
        "from sympy import sin\n",
        "\n",
        "xy=x,y=sympy.symbols('x y')\n",
        "f1 = (x**2)*y + (sin(x))*y**3\n",
        "f_x = sympy.diff(f1,x)\n",
        "f_y = sympy.diff(f1,y)\n",
        "print(\"Gradient obtained: (\", f_x,\",\",f_y,\")\")"
      ]
    },
    {
      "cell_type": "markdown",
      "metadata": {},
      "source": [
        "The gradient function obtained using sympy matches the gradient function obtained above analytically."
      ]
    },
    {
      "cell_type": "markdown",
      "metadata": {},
      "source": [
        "Question 7"
      ]
    },
    {
      "cell_type": "code",
      "execution_count": 234,
      "metadata": {},
      "outputs": [
        {
          "name": "stdout",
          "output_type": "stream",
          "text": [
            "{2022: {'Branch1': {'Name': 'Aar', 'Marks': 10, 'Roll_no': 1}, 'Branch2': {}}, 2023: {'Branch1': 0, 'Branch2': 0}, 2024: {'Branch1': 0, 'Branch2': 0}, 2025: {'Branch1': 0, 'Branch2': 0}}\n"
          ]
        }
      ],
      "source": [
        "dic1 = {2022:{'Branch1':{'Name':\"Aar\",'Marks':10, 'Roll_no':1}, 'Branch2':{}}, 2023:{'Branch1':0,'Branch2':0},  2024:{'Branch1':0,'Branch2':0}, 2025:{'Branch1':0,'Branch2':0}}\n",
        "\n",
        "print(dic1)"
      ]
    },
    {
      "cell_type": "markdown",
      "metadata": {},
      "source": [
        "Question 9"
      ]
    },
    {
      "cell_type": "code",
      "execution_count": 235,
      "metadata": {},
      "outputs": [
        {
          "data": {
            "image/png": "[encoded data removed]",
            "text/plain": [
              "<Figure size 640x480 with 1 Axes>"
            ]
          },
          "metadata": {},
          "output_type": "display_data"
        }
      ],
      "source": [
        "import matplotlib.pyplot as plt\n",
        "\n",
        "x = list(np.arange(0.5,100.5,step=0.5))\n",
        "y1 = [i for i in x]\n",
        "y2 = [i**2 for i in x]\n",
        "y3 = [(i**3)/100 for i in x]\n",
        "y4 = [math.sin(i) for i in x]\n",
        "y5 = [math.sin(i)/i for i in x]\n",
        "y6 = [math.log(i) for i in x]\n",
        "y7 = [math.exp(i) for i in x]\n",
        "\n",
        "plt.plot(x,y6)\n",
        "plt.show()"
      ]
    },
    {
      "cell_type": "markdown",
      "metadata": {},
      "source": [
        "Question 10"
      ]
    },
    {
      "cell_type": "code",
      "execution_count": 236,
      "metadata": {},
      "outputs": [
        {
          "name": "stdout",
          "output_type": "stream",
          "text": [
            "               a          b          c          d          e\n",
            "count  20.000000  20.000000  20.000000  20.000000  20.000000\n",
            "mean    1.363154   1.525606   1.393899   1.552835   1.524283\n",
            "std     0.281352   0.322733   0.209358   0.326061   0.333684\n",
            "min     1.005602   1.085825   1.029883   1.008735   1.009932\n",
            "25%     1.119279   1.256954   1.265164   1.309553   1.229071\n",
            "50%     1.382083   1.510238   1.371105   1.625067   1.580986\n",
            "75%     1.525036   1.844630   1.536186   1.784412   1.807788\n",
            "max     1.881017   1.988750   1.789494   1.967834   1.984215\n"
          ]
        }
      ],
      "source": [
        "import pandas as pd\n",
        "\n",
        "M = np.random.rand(20,5)\n",
        "M = 1+M   # np.random.rand creates a matrix with random numbers drawn from 0n to 1, by adding 1 to all values, we get elements from 1 to 2.\n",
        "\n",
        "df = pd.DataFrame(M)\n",
        "df.columns = [\"a\",\"b\",\"c\",\"d\",\"e\"]\n",
        "\n",
        "print(df.describe())"
      ]
    },
    {
      "cell_type": "markdown",
      "metadata": {},
      "source": [
        "We see that column 'c' is the one with the greatest standarad deviation and 'a' is teh colmn with the lowest mean."
      ]
    },
    {
      "cell_type": "markdown",
      "metadata": {},
      "source": [
        "Question 11"
      ]
    },
    {
      "cell_type": "code",
      "execution_count": 237,
      "metadata": {},
      "outputs": [
        {
          "name": "stdout",
          "output_type": "stream",
          "text": [
            "          a         b         c         d         e         f    g\n",
            "0  1.123495  1.830996  1.206011  1.738001  1.368829  7.267332  LT8\n",
            "1  1.881017  1.857747  1.388827  1.143061  1.090052  7.360704  LT8\n",
            "2  1.033368  1.085825  1.264667  1.513012  1.384060  6.280932  LT8\n",
            "3  1.346305  1.095852  1.087535  1.353423  1.803764  6.686879  LT8\n",
            "4  1.144049  1.111341  1.535319  1.008735  1.009932  5.809376  LT8\n",
            "5  1.457466  1.417627  1.538786  1.655748  1.175659  7.245286  LT8\n",
            "6  1.130319  1.166183  1.273212  1.177944  1.027890  5.775547  LT8\n",
            "7  1.591078  1.287211  1.372861  1.933002  1.984215  8.168367  GT8\n",
            "8  1.826154  1.946831  1.738229  1.775131  1.588271  8.874615  GT8\n",
            "9  1.416150  1.128504  1.595983  1.512337  1.573701  7.226675  LT8\n"
          ]
        }
      ],
      "source": [
        "df['f'] = df['a']+df['b']+df['c']+df['d']+df['e']\n",
        "\n",
        "df['g']= \"LT8\"\n",
        "df.loc[df['f']>=8, 'g'] = \"GT8\"\n",
        "print(df.head(10))"
      ]
    },
    {
      "cell_type": "markdown",
      "metadata": {},
      "source": [
        "Question 12\n",
        "\n",
        "Broadcasting in numpy is a method of adding two numpy arrays or matrices with different dimensions (under certain conditions). "
      ]
    },
    {
      "cell_type": "code",
      "execution_count": 238,
      "metadata": {},
      "outputs": [
        {
          "name": "stdout",
          "output_type": "stream",
          "text": [
            "[[3 7]\n",
            " [8 4]]\n"
          ]
        }
      ],
      "source": [
        "a = np.array([[1,2],[6,-1]])\n",
        "b = np.array([2,5])\n",
        "\n",
        "print(a+b)     # b, being the smaller array, is broadacasted across a to allow addition"
      ]
    },
    {
      "cell_type": "markdown",
      "metadata": {},
      "source": [
        "Question 13"
      ]
    },
    {
      "cell_type": "code",
      "execution_count": 239,
      "metadata": {},
      "outputs": [
        {
          "name": "stdout",
          "output_type": "stream",
          "text": [
            "Using written function: 7\n",
            "Using np.argmin: 7\n"
          ]
        }
      ],
      "source": [
        "npl = np.array([1,72,4,0,51,2,9,-1])\n",
        "\n",
        "def argminn(npl):\n",
        "    minn = npl[0]\n",
        "    arg = 0\n",
        "    for i,a in enumerate(npl):\n",
        "        if a < minn:\n",
        "            minn = a\n",
        "            arg = i\n",
        "    return arg\n",
        "\n",
        "print(\"Using written function:\",argminn(npl))\n",
        "print(\"Using np.argmin:\", np.argmin(npl))"
      ]
    }
  ],
  "metadata": {
    "kernelspec": {
      "display_name": "Python 3",
      "language": "python",
      "name": "python3"
    },
    "language_info": {
      "codemirror_mode": {
        "name": "ipython",
        "version": 3
      },
      "file_extension": ".py",
      "mimetype": "text/x-python",
      "name": "python",
      "nbconvert_exporter": "python",
      "pygments_lexer": "ipython3",
      "version": "3.11.3"
    }
  },
  "nbformat": 4,
  "nbformat_minor": 4
}
